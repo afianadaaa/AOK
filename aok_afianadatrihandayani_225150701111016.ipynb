{
  "nbformat": 4,
  "nbformat_minor": 0,
  "metadata": {
    "colab": {
      "provenance": [],
      "authorship_tag": "ABX9TyPl2G1QamqXrrmDCdDDsKiW",
      "include_colab_link": true
    },
    "kernelspec": {
      "name": "python3",
      "display_name": "Python 3"
    },
    "language_info": {
      "name": "python"
    }
  },
  "cells": [
    {
      "cell_type": "markdown",
      "metadata": {
        "id": "view-in-github",
        "colab_type": "text"
      },
      "source": [
        "<a href=\"https://colab.research.google.com/github/afianadaaa/AOK/blob/main/aok_afianadatrihandayani_225150701111016.ipynb\" target=\"_parent\"><img src=\"https://colab.research.google.com/assets/colab-badge.svg\" alt=\"Open In Colab\"/></a>"
      ]
    },
    {
      "cell_type": "code",
      "execution_count": 16,
      "metadata": {
        "colab": {
          "base_uri": "https://localhost:8080/"
        },
        "id": "A3e3_rErxX7O",
        "outputId": "736fcfdb-3fd4-4c9f-d397-8f72e4e1124f"
      },
      "outputs": [
        {
          "output_type": "stream",
          "name": "stdout",
          "text": [
            "Konversi Bilangan\n",
            "Biner          =  1010  dikonversi ke Desimal      =  10\n",
            "Desimal        =  10    dikonversi ke Biner        =  1010\n",
            "Biner          =  1010  dikonversi ke Heksadesimal =  a\n",
            "Heksadesimal   =  A     dikonversi ke Biner        =  1010\n",
            "Desimal        =  255   dikonversi ke Heksadesimal =  ff\n",
            "Heksadesimal   =  FF    dikonversi ke Desimal      =  255\n"
          ]
        }
      ],
      "source": [
        "#Afianada Tri Hnadayani - 225150701111016 - AOK\n",
        "#biner ke desimal - mengalikan setiap digit biner dengan pangkat dua sesuai posisinya dan menjumlahkannya.\n",
        "print(\"Konversi Bilangan - Afianada Tri Handayani - 225150701111016\")\n",
        "binary = \"1010\"\n",
        "decimal = int(binary, 2)\n",
        "print(\"Biner          = \", binary, \" dikonversi ke Desimal      = \", decimal)\n",
        "#desimal ke biner - terus membagi bilangan desimal dengan 2 dan mencatat sisa hasil bagi, hasil pembagian tersebut membentuk bilangan biner dari sisa ke sisa.\n",
        "decimal = 10\n",
        "binary = bin(decimal)[2:]\n",
        "print(\"Desimal        = \", decimal, \"   dikonversi ke Biner        = \", binary)\n",
        "#biner ke heksadesimal - mengubah terlebih dahulu ke bilangan desimal, lalu mengubah desimal ke heksadesimal.\n",
        "binary = \"1010\"\n",
        "hexadecimal = hex(int(binary, 2))[2:]\n",
        "print(\"Biner          = \", binary, \" dikonversi ke Heksadesimal = \", hexadecimal)\n",
        "#heksadesimal ke biner - mengubah terlebih dahulu ke bilangan desimal, lalu mengubah desimal ke biner.\n",
        "hexadecimal = \"A\"\n",
        "binary = bin(int(hexadecimal, 16))[2:]\n",
        "print(\"Heksadesimal   = \", hexadecimal, \"    dikonversi ke Biner        = \", binary)\n",
        "#desimal ke heksadesimal - menggunakan fungsi hex() untuk mengubah bilangan desimal ke heksadesimal.\n",
        "decimal = 255\n",
        "hexadecimal = hex(decimal)[2:]\n",
        "print(\"Desimal        = \", decimal, \"  dikonversi ke Heksadesimal = \", hexadecimal)\n",
        "#heksadesimal ke desimal - menggunakan fungsi int() dengan basis 16 untuk mengubah heksadesimal ke desimal.\n",
        "hexadecimal = \"FF\"\n",
        "decimal = int(hexadecimal, 16)\n",
        "print(\"Heksadesimal   = \", hexadecimal, \"   dikonversi ke Desimal      = \", decimal)\n"
      ]
    }
  ]
}